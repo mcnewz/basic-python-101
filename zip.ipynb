{
 "cells": [
  {
   "cell_type": "markdown",
   "metadata": {},
   "source": [
    "# "
   ]
  },
  {
   "cell_type": "markdown",
   "metadata": {},
   "source": [
    "## ZIP\n",
    "zip return tuple of list \n",
    "('x', 'y')"
   ]
  },
  {
   "cell_type": "code",
   "execution_count": 15,
   "metadata": {},
   "outputs": [
    {
     "name": "stdout",
     "output_type": "stream",
     "text": [
      "<zip object at 0x1073bbe00>\n",
      "[('aaaaa', 'dddd', 'ggg'), ('bbbb', 'eee', 'hhh'), ('ccccc', 'fff', 'iii')]\n"
     ]
    }
   ],
   "source": [
    "#hello\n",
    "a = [\"aaaaa\", \"bbbb\", \"ccccc\"]\n",
    "b = [\"dddd\", \"eee\", \"fff\"]\n",
    "c = [\"ggg\", \"hhh\", \"iii\"]\n",
    "\n",
    "x = zip(a,b,c)\n",
    "print(x)\n",
    "print(list(x))\n"
   ]
  },
  {
   "cell_type": "code",
   "execution_count": 20,
   "metadata": {},
   "outputs": [
    {
     "name": "stdout",
     "output_type": "stream",
     "text": [
      "[({'a': '1', 'b': '2', 'c': '3'}, {'a': '1', 'b': '2', 'c': '3'}), ({'d': '1', 'e': '2', 'f': '3'}, {'d': '1', 'e': '2', 'f': '3'})]\n"
     ]
    }
   ],
   "source": [
    "a = [{\"a\": \"1\", \"b\": \"2\", \"c\": \"3\"}, {\"d\": \"1\", \"e\": \"2\", \"f\": \"3\"}]\n",
    "b  = [{\"a\": \"1\", \"b\": \"2\", \"c\": \"3\"}, {\"d\": \"1\", \"e\": \"2\", \"f\": \"3\"}]\n",
    "\n",
    "x = zip(a,b)\n",
    "print(list(x))"
   ]
  },
  {
   "cell_type": "code",
   "execution_count": null,
   "metadata": {},
   "outputs": [],
   "source": []
  },
  {
   "cell_type": "code",
   "execution_count": null,
   "metadata": {},
   "outputs": [],
   "source": []
  }
 ],
 "metadata": {
  "kernelspec": {
   "display_name": ".venv",
   "language": "python",
   "name": "python3"
  },
  "language_info": {
   "codemirror_mode": {
    "name": "ipython",
    "version": 3
   },
   "file_extension": ".py",
   "mimetype": "text/x-python",
   "name": "python",
   "nbconvert_exporter": "python",
   "pygments_lexer": "ipython3",
   "version": "3.12.3"
  }
 },
 "nbformat": 4,
 "nbformat_minor": 2
}
