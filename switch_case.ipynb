{
 "cells": [
  {
   "cell_type": "code",
   "execution_count": 1,
   "metadata": {},
   "outputs": [
    {
     "name": "stdout",
     "output_type": "stream",
     "text": [
      "I'm a teapot\n"
     ]
    }
   ],
   "source": [
    "http_code = \"418\"\n",
    "\n",
    "match http_code:\n",
    "    case \"200\":\n",
    "        print(\"OK\")\n",
    "    case \"404\":\n",
    "        print(\"Not Found\")\n",
    "    case \"418\":\n",
    "        print(\"I'm a teapot\")\n",
    "    case _:\n",
    "        print(\"Code not found\")"
   ]
  }
 ],
 "metadata": {
  "kernelspec": {
   "display_name": ".venv",
   "language": "python",
   "name": "python3"
  },
  "language_info": {
   "codemirror_mode": {
    "name": "ipython",
    "version": 3
   },
   "file_extension": ".py",
   "mimetype": "text/x-python",
   "name": "python",
   "nbconvert_exporter": "python",
   "pygments_lexer": "ipython3",
   "version": "3.12.3"
  }
 },
 "nbformat": 4,
 "nbformat_minor": 2
}
